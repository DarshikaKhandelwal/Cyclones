{
  "cells": [
    {
      "cell_type": "markdown",
      "metadata": {
        "id": "view-in-github",
        "colab_type": "text"
      },
      "source": [
        "<a href=\"https://colab.research.google.com/github/DarshikaKhandelwal/Cyclones/blob/main/FeatureVectors.ipynb\" target=\"_parent\"><img src=\"https://colab.research.google.com/assets/colab-badge.svg\" alt=\"Open In Colab\"/></a>"
      ]
    },
    {
      "cell_type": "code",
      "source": [
        "!pip install opencv-python"
      ],
      "metadata": {
        "colab": {
          "base_uri": "https://localhost:8080/"
        },
        "id": "nsv-sMrSXxnp",
        "outputId": "a316fb34-50e3-414f-985f-23a124d3856b"
      },
      "execution_count": null,
      "outputs": [
        {
          "output_type": "stream",
          "name": "stdout",
          "text": [
            "Requirement already satisfied: opencv-python in /usr/local/lib/python3.10/dist-packages (4.7.0.72)\n",
            "Requirement already satisfied: numpy>=1.21.2 in /usr/local/lib/python3.10/dist-packages (from opencv-python) (1.22.4)\n"
          ]
        }
      ]
    },
    {
      "cell_type": "code",
      "source": [
        "import os\n",
        "image_dir = os.listdir('/content/cyclones')\n",
        "import cv2"
      ],
      "metadata": {
        "id": "KykIpHeYXYvd"
      },
      "execution_count": null,
      "outputs": []
    },
    {
      "cell_type": "code",
      "source": [
        "def calculate_center_of_gravity(image):\n",
        "    gray = cv2.cvtColor(image, cv2.COLOR_BGR2GRAY)\n",
        "    ret, thresh = cv2.threshold(gray, 127, 255, cv2.THRESH_BINARY)\n",
        "    M = cv2.moments(thresh)\n",
        "    if M[\"m00\"] != 0:\n",
        "        cX = int(M[\"m10\"] / M[\"m00\"])\n",
        "        cY = int(M[\"m01\"] / M[\"m00\"])\n",
        "        return cX, cY\n",
        "    else:\n",
        "        # Handle the case when the denominator is zero (no valid moments)\n",
        "        return None"
      ],
      "metadata": {
        "id": "dCdHCJILjey1"
      },
      "execution_count": null,
      "outputs": []
    },
    {
      "cell_type": "code",
      "source": [
        "f\"/content/cyclones/\" + os.path.join(\"20221101.12.Indian.IRImage.png.png\")"
      ],
      "metadata": {
        "colab": {
          "base_uri": "https://localhost:8080/",
          "height": 35
        },
        "id": "GUu2KcTqht-Z",
        "outputId": "fb6c59ba-37f2-4804-9d58-4026b92d0a6f"
      },
      "execution_count": null,
      "outputs": [
        {
          "output_type": "execute_result",
          "data": {
            "text/plain": [
              "'/content/cyclones/20221101.12.Indian.IRImage.png.png'"
            ],
            "application/vnd.google.colaboratory.intrinsic+json": {
              "type": "string"
            }
          },
          "metadata": {},
          "execution_count": 19
        }
      ]
    },
    {
      "cell_type": "code",
      "source": [
        "# find the centre of gravity of images\n",
        "from PIL import Image\n",
        "import numpy as np\n",
        "from scipy import ndimage\n",
        "coordinates_centroid = []\n",
        "for image_file in image_dir:\n",
        "    # Construct the full file path\n",
        "    image_path = f\"/content/cyclones/\" + os.path.join(image_file)\n",
        "\n",
        "    # Open the image using PIL\n",
        "    image = Image.open(image_path)\n",
        "    image_gray = image.convert(\"L\")\n",
        "    image_array = np.array(image_gray)\n",
        "    centroid = ndimage.center_of_mass(image_array)\n",
        "    centroid_x = int(centroid[1])\n",
        "    centroid_y = int(centroid[0])\n",
        "    coordinates_centroid.append([centroid_x,centroid_y])"
      ],
      "metadata": {
        "id": "yETjKNongkPv"
      },
      "execution_count": null,
      "outputs": []
    },
    {
      "cell_type": "code",
      "source": [
        "pixels = []\n",
        "for image_file in image_dir:\n",
        "    # Construct the full file path\n",
        "    image_path = f\"/content/cyclones/\" + os.path.join(image_file)\n",
        "    # Open the image using PIL\n",
        "    image = Image.open(image_path)\n",
        "    width, height = image.size\n",
        "    pixel_location = []\n",
        "    for y in range(height):\n",
        "      for x in range(width):\n",
        "        # Get the pixel value at (x, y)\n",
        "        pixel_location.append((x,y))\n",
        "    pixels.append(pixel_location)"
      ],
      "metadata": {
        "id": "MujdrQAKjyO1"
      },
      "execution_count": null,
      "outputs": []
    },
    {
      "cell_type": "code",
      "source": [
        "import math\n",
        "def euclidean_distance(point1, point2):\n",
        "    # Calculate the Euclidean distance between two points in 2D space\n",
        "    x1, y1 = point1\n",
        "    x2, y2 = point2\n",
        "    return math.sqrt((x2 - x1) ** 2 + (y2 - y1) ** 2)"
      ],
      "metadata": {
        "id": "0Yd1cWZUjx3o"
      },
      "execution_count": null,
      "outputs": []
    },
    {
      "cell_type": "code",
      "source": [
        "distances = []"
      ],
      "metadata": {
        "id": "_e4nwMuVILua"
      },
      "execution_count": null,
      "outputs": []
    },
    {
      "cell_type": "code",
      "source": [
        "def calculate_distances(pixel_locations, centroids, distances):\n",
        "    for i, image_pixels in enumerate(pixel_locations):\n",
        "        centroid = centroids[i]\n",
        "        image_distances = []\n",
        "        for pixel_location in image_pixels:\n",
        "            distance = euclidean_distance(pixel_location, centroid)\n",
        "            image_distances.append(distance)\n",
        "        distances.append(image_distances)\n",
        "    return distances"
      ],
      "metadata": {
        "id": "o_eyoG4bEg6x"
      },
      "execution_count": null,
      "outputs": []
    },
    {
      "cell_type": "code",
      "source": [
        "calculate_distances(pixels, coordinates_centroid, distances)"
      ],
      "metadata": {
        "id": "bVJySXPJedgQ"
      },
      "execution_count": null,
      "outputs": []
    },
    {
      "cell_type": "code",
      "source": [
        "max_distances = []\n",
        "for i in distances:\n",
        "  max_distances.append(max(i))"
      ],
      "metadata": {
        "id": "BqIo9IjaIcUf"
      },
      "execution_count": null,
      "outputs": []
    },
    {
      "cell_type": "code",
      "source": [
        "min_distances = []\n",
        "for i in distances:\n",
        "  min_distances.append(min(i))"
      ],
      "metadata": {
        "id": "PuM9Rpbjox3G"
      },
      "execution_count": null,
      "outputs": []
    },
    {
      "cell_type": "code",
      "source": [
        "ratios = []\n",
        "for i, ed in enumerate(distances):\n",
        "  r = []\n",
        "  for j in ed:\n",
        "    if(j!=0):\n",
        "      r.append(j/max_distances[i])\n",
        "    else:\n",
        "      r.append(0)\n",
        "  ratios.append(r)"
      ],
      "metadata": {
        "id": "bRqcF-kkIvQ2"
      },
      "execution_count": null,
      "outputs": []
    },
    {
      "cell_type": "code",
      "source": [
        "sums = []\n",
        "for i in ratios:\n",
        "  sums.append(sum(i))"
      ],
      "metadata": {
        "id": "_bJUpjpgRr07"
      },
      "execution_count": null,
      "outputs": []
    },
    {
      "cell_type": "code",
      "source": [
        "means = []\n",
        "for i in sums:\n",
        "  means.append(i/328)"
      ],
      "metadata": {
        "id": "upNCCWBUjSqL"
      },
      "execution_count": null,
      "outputs": []
    },
    {
      "cell_type": "code",
      "source": [
        "import pandas as pd"
      ],
      "metadata": {
        "id": "vxbDHIlCgaQV"
      },
      "execution_count": null,
      "outputs": []
    },
    {
      "cell_type": "code",
      "source": [
        "import pandas as pd\n",
        "dataset = pd.DataFrame(columns=['image','mean','variance','density','decentricity'])"
      ],
      "metadata": {
        "id": "td8Qir3ImotY"
      },
      "execution_count": null,
      "outputs": []
    },
    {
      "cell_type": "code",
      "source": [
        "for val in ratios:\n",
        "  val\n",
        "len(val)"
      ],
      "metadata": {
        "colab": {
          "base_uri": "https://localhost:8080/"
        },
        "id": "X1WlR4b-ogqS",
        "outputId": "a8627ac0-53cd-46ad-dca2-8e209d899c1f"
      },
      "execution_count": null,
      "outputs": [
        {
          "output_type": "execute_result",
          "data": {
            "text/plain": [
              "90000"
            ]
          },
          "metadata": {},
          "execution_count": 86
        }
      ]
    },
    {
      "cell_type": "code",
      "source": [
        "differences = []\n",
        "for i, val in enumerate(ratios):\n",
        "  sum = 0\n",
        "  d = []\n",
        "  for j in val:\n",
        "    sum += ((j - means[i])**2)\n",
        "  differences.append(sum)"
      ],
      "metadata": {
        "id": "40nfrgIkjccK"
      },
      "execution_count": null,
      "outputs": []
    },
    {
      "cell_type": "code",
      "source": [
        "variances = []\n",
        "for i in differences:\n",
        "  variances.append(i/328)"
      ],
      "metadata": {
        "id": "yxNJwwhTGHEl"
      },
      "execution_count": null,
      "outputs": []
    },
    {
      "cell_type": "code",
      "source": [],
      "metadata": {
        "colab": {
          "base_uri": "https://localhost:8080/"
        },
        "id": "krGW0drVIWFq",
        "outputId": "8d428808-cfc8-484f-83c1-d5af2224105b"
      },
      "execution_count": null,
      "outputs": [
        {
          "output_type": "execute_result",
          "data": {
            "text/plain": [
              "328"
            ]
          },
          "metadata": {},
          "execution_count": 102
        }
      ]
    },
    {
      "cell_type": "markdown",
      "source": [
        "![image.png](data:image/png;base64,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)\n"
      ],
      "metadata": {
        "id": "IT8qn-SdSQ3h"
      }
    },
    {
      "cell_type": "code",
      "source": [
        "ed_max = []\n",
        "ed_min = []\n",
        "for i in distances:\n",
        "  i.remove(0)\n",
        "  ed_max.append(max(i))\n",
        "  ed_min.append(min(i))"
      ],
      "metadata": {
        "id": "h0VIoRiFyl2D"
      },
      "execution_count": null,
      "outputs": []
    },
    {
      "cell_type": "code",
      "source": [
        "decentricities = []\n",
        "for i in range(len(ed_max)):\n",
        "  decentricities.append(ed_min[i]/ed_max[i])"
      ],
      "metadata": {
        "id": "yU870_XhoRC0"
      },
      "execution_count": null,
      "outputs": []
    },
    {
      "cell_type": "code",
      "source": [
        "for i, value in enumerate(decentricities):\n",
        "  dataset.loc[i, 'decentricity'] = value"
      ],
      "metadata": {
        "id": "h43hk6yxxRlm"
      },
      "execution_count": null,
      "outputs": []
    },
    {
      "cell_type": "code",
      "source": [
        "for i, value in enumerate(variances):\n",
        "  dataset.loc[i, 'variance'] = value"
      ],
      "metadata": {
        "id": "tfMNMf-zIc9f"
      },
      "execution_count": null,
      "outputs": []
    },
    {
      "cell_type": "code",
      "source": [
        "pi_value = math.pi\n",
        "\n",
        "density_sums_x = []\n",
        "horizontal_pixels = 0\n",
        "density_sums_y = []\n",
        "vertical_pixels = 0\n",
        "for pixel in pixels:\n",
        "  for i in pixel:\n",
        "    x = i[0]\n",
        "    y = i[1]\n",
        "  horizontal_pixels += x\n",
        "  vertical_pixels += y\n",
        "  density_sums_x.append(horizontal_pixels)\n",
        "  density_sums_y.append(vertical_pixels)"
      ],
      "metadata": {
        "id": "GQnq_ZCipfVK"
      },
      "execution_count": null,
      "outputs": []
    },
    {
      "cell_type": "code",
      "source": [
        "density_sums_x[0] + density_sums_y[0]"
      ],
      "metadata": {
        "id": "QbfX3kYHu4_F",
        "colab": {
          "base_uri": "https://localhost:8080/"
        },
        "outputId": "28ab3493-912f-4338-beb0-34bae40dcd8c"
      },
      "execution_count": null,
      "outputs": [
        {
          "output_type": "execute_result",
          "data": {
            "text/plain": [
              "598"
            ]
          },
          "metadata": {},
          "execution_count": 58
        }
      ]
    },
    {
      "cell_type": "code",
      "source": [
        "total_sum = []\n",
        "for i in range(0, 328):\n",
        "  total_sum.append(density_sums_x[i]+density_sums_y[i])"
      ],
      "metadata": {
        "id": "mIdkBXxOq9-W"
      },
      "execution_count": null,
      "outputs": []
    },
    {
      "cell_type": "code",
      "source": [
        "densities = []\n",
        "denominators = []\n",
        "for i in ed_max:\n",
        "  denominators.append((pi_value*i)**2)\n",
        "for i, val in enumerate(total_sum):\n",
        "  densities.append(val/denominators[i])"
      ],
      "metadata": {
        "id": "YScZO5vBrhti"
      },
      "execution_count": null,
      "outputs": []
    },
    {
      "cell_type": "code",
      "source": [
        "for i, value in enumerate(densities):\n",
        "  dataset.loc[i, 'density'] = value"
      ],
      "metadata": {
        "id": "1iHYmeJOyUxQ"
      },
      "execution_count": null,
      "outputs": []
    },
    {
      "cell_type": "code",
      "source": [
        "dataset.drop(dataset.index, inplace=True)"
      ],
      "metadata": {
        "id": "Ql3FDLm-Ijde"
      },
      "execution_count": null,
      "outputs": []
    },
    {
      "cell_type": "code",
      "source": [
        "for i, value in enumerate(image_dir):\n",
        "  dataset.loc[i, 'image'] = value\n",
        "for i, value in enumerate(means):\n",
        "  dataset.loc[i, 'mean'] = value\n",
        "for i, value in enumerate(variances):\n",
        "  dataset.loc[i, 'variance'] = value\n",
        "for i, value in enumerate(densities):\n",
        "  dataset.loc[i, 'density'] = value\n",
        "for i, value in enumerate(decentricities):\n",
        "  dataset.loc[i, 'decentricity'] = value"
      ],
      "metadata": {
        "id": "6_vAgb5HJGGQ"
      },
      "execution_count": null,
      "outputs": []
    },
    {
      "cell_type": "code",
      "source": [
        "dataset.to_csv('/content/features.csv', index = False)"
      ],
      "metadata": {
        "id": "fJKaDbE5JiKF"
      },
      "execution_count": null,
      "outputs": []
    }
  ],
  "metadata": {
    "colab": {
      "provenance": [],
      "authorship_tag": "ABX9TyPPjb7kCgF4HBrZEovTstCF",
      "include_colab_link": true
    },
    "kernelspec": {
      "display_name": "Python 3",
      "name": "python3"
    },
    "language_info": {
      "name": "python"
    }
  },
  "nbformat": 4,
  "nbformat_minor": 0
}