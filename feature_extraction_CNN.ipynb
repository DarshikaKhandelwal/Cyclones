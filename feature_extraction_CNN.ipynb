{
  "cells": [
    {
      "cell_type": "markdown",
      "metadata": {
        "id": "view-in-github",
        "colab_type": "text"
      },
      "source": [
        "<a href=\"https://colab.research.google.com/github/DarshikaKhandelwal/Cyclones/blob/main/feature_extraction_CNN.ipynb\" target=\"_parent\"><img src=\"https://colab.research.google.com/assets/colab-badge.svg\" alt=\"Open In Colab\"/></a>"
      ]
    },
    {
      "cell_type": "code",
      "source": [
        "import tensorflow\n",
        "import keras as k\n",
        "from keras.models import Sequential\n",
        "from keras.layers import Activation\n",
        "from keras.layers.core import Dense\n",
        "from keras.optimizers import Adam\n",
        "from keras.metrics import categorical_crossentropy\n",
        "import numpy as np"
      ],
      "metadata": {
        "id": "2JjzrsGyLS1d"
      },
      "execution_count": null,
      "outputs": []
    },
    {
      "cell_type": "code",
      "source": [
        "import pandas as pd\n",
        "from sklearn.model_selection import train_test_split\n",
        "dataset = pd.read_csv('/content/features.csv')"
      ],
      "metadata": {
        "id": "tDjOCj3dPnEa"
      },
      "execution_count": null,
      "outputs": []
    },
    {
      "cell_type": "code",
      "source": [
        "from sklearn.preprocessing import LabelEncoder\n",
        "\n",
        "# Create an instance of LabelEncoder\n",
        "label_encoder = LabelEncoder()\n",
        "\n",
        "target = dataset['target']\n",
        "\n",
        "# Fit and transform the target data to convert string labels to integers\n",
        "integer_labels = label_encoder.fit_transform(target)"
      ],
      "metadata": {
        "id": "_4V5Ua7gTetJ"
      },
      "execution_count": null,
      "outputs": []
    },
    {
      "cell_type": "code",
      "source": [
        "dataset['integer_labels'] = integer_labels"
      ],
      "metadata": {
        "id": "DJItKrC9TofK"
      },
      "execution_count": null,
      "outputs": []
    },
    {
      "cell_type": "code",
      "source": [
        "features = dataset[['mean', 'variance', 'density', 'decentricity']]\n",
        "target = dataset['integer_labels']\n",
        "X_train, X_test, y_train, y_test = train_test_split(features, target, test_size=0.2, random_state=42)"
      ],
      "metadata": {
        "id": "KyEJTN_OT0ap"
      },
      "execution_count": null,
      "outputs": []
    },
    {
      "cell_type": "code",
      "source": [
        "model = Sequential([\n",
        "    Dense(16, input_shape=(4,),activation='relu'),\n",
        "    Dense(32,activation='relu',use_bias=True),\n",
        "    Dense(64,activation='relu',use_bias=True),\n",
        "    Dense(128,activation='relu',use_bias=True),\n",
        "    Dense(7, activation='softmax')\n",
        "])"
      ],
      "metadata": {
        "id": "uEz1KjlXLVTZ"
      },
      "execution_count": null,
      "outputs": []
    },
    {
      "cell_type": "code",
      "source": [
        "model.compile(optimizer=\"adam\",loss='sparse_categorical_crossentropy',metrics=['accuracy'])"
      ],
      "metadata": {
        "id": "Lmf-moufPC2_"
      },
      "execution_count": null,
      "outputs": []
    },
    {
      "cell_type": "code",
      "source": [
        "history = model.fit(x=X_train,y=y_train,epochs=100,shuffle='True',verbose=2)"
      ],
      "metadata": {
        "id": "ORBAiHZ3PcFq",
        "colab": {
          "base_uri": "https://localhost:8080/"
        },
        "outputId": "e8e14795-63fe-45cf-b305-4f7470a8fc5e"
      },
      "execution_count": null,
      "outputs": [
        {
          "output_type": "stream",
          "name": "stdout",
          "text": [
            "Epoch 1/100\n",
            "9/9 - 0s - loss: 21199.1504 - accuracy: 0.1603 - 29ms/epoch - 3ms/step\n",
            "Epoch 2/100\n",
            "9/9 - 0s - loss: 19206.5723 - accuracy: 0.1679 - 31ms/epoch - 3ms/step\n",
            "Epoch 3/100\n",
            "9/9 - 0s - loss: 17247.0859 - accuracy: 0.1870 - 33ms/epoch - 4ms/step\n",
            "Epoch 4/100\n",
            "9/9 - 0s - loss: 18160.1172 - accuracy: 0.1565 - 30ms/epoch - 3ms/step\n",
            "Epoch 5/100\n",
            "9/9 - 0s - loss: 16998.5176 - accuracy: 0.1794 - 44ms/epoch - 5ms/step\n",
            "Epoch 6/100\n",
            "9/9 - 0s - loss: 22406.9180 - accuracy: 0.1908 - 68ms/epoch - 8ms/step\n",
            "Epoch 7/100\n",
            "9/9 - 0s - loss: 12445.6934 - accuracy: 0.1565 - 65ms/epoch - 7ms/step\n",
            "Epoch 8/100\n",
            "9/9 - 0s - loss: 12286.7568 - accuracy: 0.1679 - 65ms/epoch - 7ms/step\n",
            "Epoch 9/100\n",
            "9/9 - 0s - loss: 13129.0537 - accuracy: 0.2023 - 69ms/epoch - 8ms/step\n",
            "Epoch 10/100\n",
            "9/9 - 0s - loss: 20889.6152 - accuracy: 0.1221 - 56ms/epoch - 6ms/step\n",
            "Epoch 11/100\n",
            "9/9 - 0s - loss: 20315.7109 - accuracy: 0.1298 - 45ms/epoch - 5ms/step\n",
            "Epoch 12/100\n",
            "9/9 - 0s - loss: 23856.0586 - accuracy: 0.2061 - 50ms/epoch - 6ms/step\n",
            "Epoch 13/100\n",
            "9/9 - 0s - loss: 20250.7656 - accuracy: 0.1450 - 39ms/epoch - 4ms/step\n",
            "Epoch 14/100\n",
            "9/9 - 0s - loss: 16161.8096 - accuracy: 0.1565 - 45ms/epoch - 5ms/step\n",
            "Epoch 15/100\n",
            "9/9 - 0s - loss: 11963.8711 - accuracy: 0.1870 - 38ms/epoch - 4ms/step\n",
            "Epoch 16/100\n",
            "9/9 - 0s - loss: 9577.1533 - accuracy: 0.1336 - 46ms/epoch - 5ms/step\n",
            "Epoch 17/100\n",
            "9/9 - 0s - loss: 15093.3115 - accuracy: 0.1603 - 40ms/epoch - 4ms/step\n",
            "Epoch 18/100\n",
            "9/9 - 0s - loss: 14111.3154 - accuracy: 0.1565 - 39ms/epoch - 4ms/step\n",
            "Epoch 19/100\n",
            "9/9 - 0s - loss: 14607.9375 - accuracy: 0.2176 - 62ms/epoch - 7ms/step\n",
            "Epoch 20/100\n",
            "9/9 - 0s - loss: 16262.0498 - accuracy: 0.1336 - 42ms/epoch - 5ms/step\n",
            "Epoch 21/100\n",
            "9/9 - 0s - loss: 12555.6611 - accuracy: 0.1870 - 52ms/epoch - 6ms/step\n",
            "Epoch 22/100\n",
            "9/9 - 0s - loss: 13962.1543 - accuracy: 0.1718 - 99ms/epoch - 11ms/step\n",
            "Epoch 23/100\n",
            "9/9 - 0s - loss: 11537.8662 - accuracy: 0.1565 - 68ms/epoch - 8ms/step\n",
            "Epoch 24/100\n",
            "9/9 - 0s - loss: 13690.7520 - accuracy: 0.1641 - 56ms/epoch - 6ms/step\n",
            "Epoch 25/100\n",
            "9/9 - 0s - loss: 12380.6641 - accuracy: 0.2137 - 47ms/epoch - 5ms/step\n",
            "Epoch 26/100\n",
            "9/9 - 0s - loss: 13699.4346 - accuracy: 0.1985 - 69ms/epoch - 8ms/step\n",
            "Epoch 27/100\n",
            "9/9 - 0s - loss: 13522.1318 - accuracy: 0.1412 - 105ms/epoch - 12ms/step\n",
            "Epoch 28/100\n",
            "9/9 - 0s - loss: 15261.6553 - accuracy: 0.1985 - 50ms/epoch - 6ms/step\n",
            "Epoch 29/100\n",
            "9/9 - 0s - loss: 15523.6631 - accuracy: 0.1260 - 83ms/epoch - 9ms/step\n",
            "Epoch 30/100\n",
            "9/9 - 0s - loss: 15352.3105 - accuracy: 0.1450 - 85ms/epoch - 9ms/step\n",
            "Epoch 31/100\n",
            "9/9 - 0s - loss: 12827.5605 - accuracy: 0.2443 - 135ms/epoch - 15ms/step\n",
            "Epoch 32/100\n",
            "9/9 - 0s - loss: 16793.8535 - accuracy: 0.1260 - 54ms/epoch - 6ms/step\n",
            "Epoch 33/100\n",
            "9/9 - 0s - loss: 12601.1045 - accuracy: 0.1908 - 40ms/epoch - 4ms/step\n",
            "Epoch 34/100\n",
            "9/9 - 0s - loss: 7220.5542 - accuracy: 0.1947 - 36ms/epoch - 4ms/step\n",
            "Epoch 35/100\n",
            "9/9 - 0s - loss: 18294.1855 - accuracy: 0.1450 - 43ms/epoch - 5ms/step\n",
            "Epoch 36/100\n",
            "9/9 - 0s - loss: 16332.0283 - accuracy: 0.1832 - 40ms/epoch - 4ms/step\n",
            "Epoch 37/100\n",
            "9/9 - 0s - loss: 9431.9189 - accuracy: 0.1412 - 46ms/epoch - 5ms/step\n",
            "Epoch 38/100\n",
            "9/9 - 0s - loss: 9475.2568 - accuracy: 0.1603 - 48ms/epoch - 5ms/step\n",
            "Epoch 39/100\n",
            "9/9 - 0s - loss: 11529.5596 - accuracy: 0.1565 - 38ms/epoch - 4ms/step\n",
            "Epoch 40/100\n",
            "9/9 - 0s - loss: 15141.4346 - accuracy: 0.1947 - 35ms/epoch - 4ms/step\n",
            "Epoch 41/100\n",
            "9/9 - 0s - loss: 19561.0625 - accuracy: 0.1489 - 38ms/epoch - 4ms/step\n",
            "Epoch 42/100\n",
            "9/9 - 0s - loss: 19037.4824 - accuracy: 0.1870 - 35ms/epoch - 4ms/step\n",
            "Epoch 43/100\n",
            "9/9 - 0s - loss: 14080.3281 - accuracy: 0.1260 - 37ms/epoch - 4ms/step\n",
            "Epoch 44/100\n",
            "9/9 - 0s - loss: 14439.1953 - accuracy: 0.1527 - 37ms/epoch - 4ms/step\n",
            "Epoch 45/100\n",
            "9/9 - 0s - loss: 10591.0293 - accuracy: 0.1832 - 38ms/epoch - 4ms/step\n",
            "Epoch 46/100\n",
            "9/9 - 0s - loss: 7995.1606 - accuracy: 0.1870 - 42ms/epoch - 5ms/step\n",
            "Epoch 47/100\n",
            "9/9 - 0s - loss: 6920.9351 - accuracy: 0.2023 - 36ms/epoch - 4ms/step\n",
            "Epoch 48/100\n",
            "9/9 - 0s - loss: 10314.3467 - accuracy: 0.1412 - 41ms/epoch - 5ms/step\n",
            "Epoch 49/100\n",
            "9/9 - 0s - loss: 10452.6797 - accuracy: 0.2137 - 37ms/epoch - 4ms/step\n",
            "Epoch 50/100\n",
            "9/9 - 0s - loss: 9192.8906 - accuracy: 0.1679 - 39ms/epoch - 4ms/step\n",
            "Epoch 51/100\n",
            "9/9 - 0s - loss: 8879.0391 - accuracy: 0.1679 - 44ms/epoch - 5ms/step\n",
            "Epoch 52/100\n",
            "9/9 - 0s - loss: 9096.8096 - accuracy: 0.1565 - 40ms/epoch - 4ms/step\n",
            "Epoch 53/100\n",
            "9/9 - 0s - loss: 9976.5107 - accuracy: 0.1908 - 40ms/epoch - 4ms/step\n",
            "Epoch 54/100\n",
            "9/9 - 0s - loss: 10394.4287 - accuracy: 0.1412 - 54ms/epoch - 6ms/step\n",
            "Epoch 55/100\n",
            "9/9 - 0s - loss: 10584.0059 - accuracy: 0.1374 - 37ms/epoch - 4ms/step\n",
            "Epoch 56/100\n",
            "9/9 - 0s - loss: 13109.0977 - accuracy: 0.1832 - 42ms/epoch - 5ms/step\n",
            "Epoch 57/100\n",
            "9/9 - 0s - loss: 8984.2295 - accuracy: 0.1832 - 49ms/epoch - 5ms/step\n",
            "Epoch 58/100\n",
            "9/9 - 0s - loss: 14035.3740 - accuracy: 0.1489 - 38ms/epoch - 4ms/step\n",
            "Epoch 59/100\n",
            "9/9 - 0s - loss: 6045.8101 - accuracy: 0.1527 - 41ms/epoch - 5ms/step\n",
            "Epoch 60/100\n",
            "9/9 - 0s - loss: 7424.2144 - accuracy: 0.1947 - 37ms/epoch - 4ms/step\n",
            "Epoch 61/100\n",
            "9/9 - 0s - loss: 7391.8555 - accuracy: 0.1908 - 37ms/epoch - 4ms/step\n",
            "Epoch 62/100\n",
            "9/9 - 0s - loss: 8293.2705 - accuracy: 0.1298 - 38ms/epoch - 4ms/step\n",
            "Epoch 63/100\n",
            "9/9 - 0s - loss: 5248.8560 - accuracy: 0.1832 - 42ms/epoch - 5ms/step\n",
            "Epoch 64/100\n",
            "9/9 - 0s - loss: 9769.5205 - accuracy: 0.2023 - 46ms/epoch - 5ms/step\n",
            "Epoch 65/100\n",
            "9/9 - 0s - loss: 10397.3281 - accuracy: 0.1985 - 41ms/epoch - 5ms/step\n",
            "Epoch 66/100\n",
            "9/9 - 0s - loss: 11903.1221 - accuracy: 0.1298 - 45ms/epoch - 5ms/step\n",
            "Epoch 67/100\n",
            "9/9 - 0s - loss: 9479.0498 - accuracy: 0.2061 - 37ms/epoch - 4ms/step\n",
            "Epoch 68/100\n",
            "9/9 - 0s - loss: 11020.8848 - accuracy: 0.2137 - 38ms/epoch - 4ms/step\n",
            "Epoch 69/100\n",
            "9/9 - 0s - loss: 9013.1719 - accuracy: 0.1679 - 37ms/epoch - 4ms/step\n",
            "Epoch 70/100\n",
            "9/9 - 0s - loss: 7270.3848 - accuracy: 0.1985 - 40ms/epoch - 4ms/step\n",
            "Epoch 71/100\n",
            "9/9 - 0s - loss: 7621.2500 - accuracy: 0.1832 - 47ms/epoch - 5ms/step\n",
            "Epoch 72/100\n",
            "9/9 - 0s - loss: 5542.5225 - accuracy: 0.1565 - 47ms/epoch - 5ms/step\n",
            "Epoch 73/100\n",
            "9/9 - 0s - loss: 6349.4819 - accuracy: 0.1374 - 36ms/epoch - 4ms/step\n",
            "Epoch 74/100\n",
            "9/9 - 0s - loss: 8794.9248 - accuracy: 0.1718 - 36ms/epoch - 4ms/step\n",
            "Epoch 75/100\n",
            "9/9 - 0s - loss: 9911.0996 - accuracy: 0.2252 - 40ms/epoch - 4ms/step\n",
            "Epoch 76/100\n",
            "9/9 - 0s - loss: 7426.3945 - accuracy: 0.1603 - 35ms/epoch - 4ms/step\n",
            "Epoch 77/100\n",
            "9/9 - 0s - loss: 7485.3110 - accuracy: 0.2023 - 37ms/epoch - 4ms/step\n",
            "Epoch 78/100\n",
            "9/9 - 0s - loss: 6150.2344 - accuracy: 0.1374 - 48ms/epoch - 5ms/step\n",
            "Epoch 79/100\n",
            "9/9 - 0s - loss: 9027.7148 - accuracy: 0.1718 - 48ms/epoch - 5ms/step\n",
            "Epoch 80/100\n",
            "9/9 - 0s - loss: 8350.8271 - accuracy: 0.1641 - 41ms/epoch - 5ms/step\n",
            "Epoch 81/100\n",
            "9/9 - 0s - loss: 8210.3301 - accuracy: 0.1832 - 36ms/epoch - 4ms/step\n",
            "Epoch 82/100\n",
            "9/9 - 0s - loss: 9264.8232 - accuracy: 0.1527 - 36ms/epoch - 4ms/step\n",
            "Epoch 83/100\n",
            "9/9 - 0s - loss: 6295.8960 - accuracy: 0.1450 - 39ms/epoch - 4ms/step\n",
            "Epoch 84/100\n",
            "9/9 - 0s - loss: 2939.9231 - accuracy: 0.1756 - 37ms/epoch - 4ms/step\n",
            "Epoch 85/100\n",
            "9/9 - 0s - loss: 5298.0254 - accuracy: 0.1412 - 34ms/epoch - 4ms/step\n",
            "Epoch 86/100\n",
            "9/9 - 0s - loss: 6998.5498 - accuracy: 0.1756 - 34ms/epoch - 4ms/step\n",
            "Epoch 87/100\n",
            "9/9 - 0s - loss: 9027.5498 - accuracy: 0.1718 - 34ms/epoch - 4ms/step\n",
            "Epoch 88/100\n",
            "9/9 - 0s - loss: 5206.3892 - accuracy: 0.1565 - 42ms/epoch - 5ms/step\n",
            "Epoch 89/100\n",
            "9/9 - 0s - loss: 4893.3242 - accuracy: 0.1565 - 37ms/epoch - 4ms/step\n",
            "Epoch 90/100\n",
            "9/9 - 0s - loss: 6482.2661 - accuracy: 0.1336 - 44ms/epoch - 5ms/step\n",
            "Epoch 91/100\n",
            "9/9 - 0s - loss: 5029.2397 - accuracy: 0.1832 - 40ms/epoch - 4ms/step\n",
            "Epoch 92/100\n",
            "9/9 - 0s - loss: 6125.1392 - accuracy: 0.1450 - 35ms/epoch - 4ms/step\n",
            "Epoch 93/100\n",
            "9/9 - 0s - loss: 4072.0295 - accuracy: 0.1336 - 36ms/epoch - 4ms/step\n",
            "Epoch 94/100\n",
            "9/9 - 0s - loss: 6092.2358 - accuracy: 0.1718 - 40ms/epoch - 4ms/step\n",
            "Epoch 95/100\n",
            "9/9 - 0s - loss: 5176.9688 - accuracy: 0.1450 - 37ms/epoch - 4ms/step\n",
            "Epoch 96/100\n",
            "9/9 - 0s - loss: 4814.3950 - accuracy: 0.1870 - 39ms/epoch - 4ms/step\n",
            "Epoch 97/100\n",
            "9/9 - 0s - loss: 6743.0601 - accuracy: 0.1603 - 59ms/epoch - 7ms/step\n",
            "Epoch 98/100\n",
            "9/9 - 0s - loss: 10463.9629 - accuracy: 0.1298 - 36ms/epoch - 4ms/step\n",
            "Epoch 99/100\n",
            "9/9 - 0s - loss: 10134.2266 - accuracy: 0.1756 - 38ms/epoch - 4ms/step\n",
            "Epoch 100/100\n",
            "9/9 - 0s - loss: 8059.4639 - accuracy: 0.1908 - 49ms/epoch - 5ms/step\n"
          ]
        }
      ]
    },
    {
      "cell_type": "code",
      "source": [
        "results = model.evaluate(X_test, y_test, batch_size=10)"
      ],
      "metadata": {
        "colab": {
          "base_uri": "https://localhost:8080/"
        },
        "id": "HLC4YjHbW6fS",
        "outputId": "8c6e73fa-c499-4dd5-df57-93845e330862"
      },
      "execution_count": null,
      "outputs": [
        {
          "output_type": "stream",
          "name": "stdout",
          "text": [
            "7/7 [==============================] - 0s 4ms/step - loss: 21682.4160 - accuracy: 0.2576\n"
          ]
        }
      ]
    },
    {
      "cell_type": "code",
      "source": [
        "predictions = model.predict(X_test)"
      ],
      "metadata": {
        "colab": {
          "base_uri": "https://localhost:8080/"
        },
        "id": "co6qpNDkXOI4",
        "outputId": "fb5d771c-d067-4666-c64f-22133ccbea13"
      },
      "execution_count": null,
      "outputs": [
        {
          "output_type": "stream",
          "name": "stdout",
          "text": [
            "3/3 [==============================] - 0s 4ms/step\n"
          ]
        }
      ]
    }
  ],
  "metadata": {
    "colab": {
      "provenance": [],
      "authorship_tag": "ABX9TyOKX1ECkn8/wov0JcjZsrbq",
      "include_colab_link": true
    },
    "kernelspec": {
      "display_name": "Python 3",
      "name": "python3"
    },
    "language_info": {
      "name": "python"
    }
  },
  "nbformat": 4,
  "nbformat_minor": 0
}